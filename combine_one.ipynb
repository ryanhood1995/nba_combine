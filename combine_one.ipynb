{
 "cells": [
  {
   "cell_type": "markdown",
   "metadata": {},
   "source": [
    "In this notebook, I analyze NBA draft combine data in hopes to identify the most important predictor for future success in the NBA.  I start with data from Andrew Chou on data.world.  If this data does not provide conclusive results, I will have to find more data."
   ]
  },
  {
   "cell_type": "code",
   "execution_count": 187,
   "metadata": {},
   "outputs": [],
   "source": [
    "import numpy as np\n",
    "import pandas as pd\n",
    "from sklearn.model_selection import train_test_split\n",
    "from sklearn.linear_model import LinearRegression\n",
    "from sklearn.metrics import mean_squared_error\n",
    "from sklearn.tree import DecisionTreeRegressor\n",
    "from sklearn.ensemble import RandomForestRegressor\n",
    "from random import seed\n",
    "from random import randint\n",
    "from sklearn.preprocessing import StandardScaler\n",
    "from sklearn.linear_model import ElasticNet"
   ]
  },
  {
   "cell_type": "markdown",
   "metadata": {},
   "source": [
    "First, we read our data into a DataFrame object."
   ]
  },
  {
   "cell_type": "code",
   "execution_count": 188,
   "metadata": {},
   "outputs": [
    {
     "data": {
      "text/html": [
       "<div>\n",
       "<style scoped>\n",
       "    .dataframe tbody tr th:only-of-type {\n",
       "        vertical-align: middle;\n",
       "    }\n",
       "\n",
       "    .dataframe tbody tr th {\n",
       "        vertical-align: top;\n",
       "    }\n",
       "\n",
       "    .dataframe thead th {\n",
       "        text-align: right;\n",
       "    }\n",
       "</style>\n",
       "<table border=\"1\" class=\"dataframe\">\n",
       "  <thead>\n",
       "    <tr style=\"text-align: right;\">\n",
       "      <th></th>\n",
       "      <th>Unnamed: 0</th>\n",
       "      <th>Player</th>\n",
       "      <th>Year</th>\n",
       "      <th>Draft pick</th>\n",
       "      <th>Height (No Shoes)</th>\n",
       "      <th>Height (With Shoes)</th>\n",
       "      <th>Wingspan</th>\n",
       "      <th>Standing reach</th>\n",
       "      <th>Vertical (Max)</th>\n",
       "      <th>Vertical (Max Reach)</th>\n",
       "      <th>Vertical (No Step)</th>\n",
       "      <th>Vertical (No Step Reach)</th>\n",
       "      <th>Weight</th>\n",
       "      <th>Body Fat</th>\n",
       "      <th>Hand (Length)</th>\n",
       "      <th>Hand (Width)</th>\n",
       "      <th>Bench</th>\n",
       "      <th>Agility</th>\n",
       "      <th>Sprint</th>\n",
       "    </tr>\n",
       "  </thead>\n",
       "  <tbody>\n",
       "    <tr>\n",
       "      <th>0</th>\n",
       "      <td>0</td>\n",
       "      <td>Blake Griffin</td>\n",
       "      <td>2009</td>\n",
       "      <td>1.0</td>\n",
       "      <td>80.50</td>\n",
       "      <td>82.00</td>\n",
       "      <td>83.25</td>\n",
       "      <td>105.0</td>\n",
       "      <td>35.5</td>\n",
       "      <td>140.5</td>\n",
       "      <td>32.0</td>\n",
       "      <td>137.0</td>\n",
       "      <td>248.0</td>\n",
       "      <td>8.2</td>\n",
       "      <td>NaN</td>\n",
       "      <td>NaN</td>\n",
       "      <td>22.0</td>\n",
       "      <td>10.95</td>\n",
       "      <td>3.28</td>\n",
       "    </tr>\n",
       "    <tr>\n",
       "      <th>1</th>\n",
       "      <td>1</td>\n",
       "      <td>Terrence Williams</td>\n",
       "      <td>2009</td>\n",
       "      <td>11.0</td>\n",
       "      <td>77.00</td>\n",
       "      <td>78.25</td>\n",
       "      <td>81.00</td>\n",
       "      <td>103.5</td>\n",
       "      <td>37.0</td>\n",
       "      <td>140.5</td>\n",
       "      <td>30.5</td>\n",
       "      <td>134.0</td>\n",
       "      <td>213.0</td>\n",
       "      <td>5.1</td>\n",
       "      <td>NaN</td>\n",
       "      <td>NaN</td>\n",
       "      <td>9.0</td>\n",
       "      <td>11.15</td>\n",
       "      <td>3.18</td>\n",
       "    </tr>\n",
       "    <tr>\n",
       "      <th>2</th>\n",
       "      <td>2</td>\n",
       "      <td>Gerald Henderson</td>\n",
       "      <td>2009</td>\n",
       "      <td>12.0</td>\n",
       "      <td>76.00</td>\n",
       "      <td>77.00</td>\n",
       "      <td>82.25</td>\n",
       "      <td>102.5</td>\n",
       "      <td>35.0</td>\n",
       "      <td>137.5</td>\n",
       "      <td>31.5</td>\n",
       "      <td>134.0</td>\n",
       "      <td>215.0</td>\n",
       "      <td>4.4</td>\n",
       "      <td>NaN</td>\n",
       "      <td>NaN</td>\n",
       "      <td>8.0</td>\n",
       "      <td>11.17</td>\n",
       "      <td>3.14</td>\n",
       "    </tr>\n",
       "    <tr>\n",
       "      <th>3</th>\n",
       "      <td>3</td>\n",
       "      <td>Tyler Hansbrough</td>\n",
       "      <td>2009</td>\n",
       "      <td>13.0</td>\n",
       "      <td>80.25</td>\n",
       "      <td>81.50</td>\n",
       "      <td>83.50</td>\n",
       "      <td>106.0</td>\n",
       "      <td>34.0</td>\n",
       "      <td>140.0</td>\n",
       "      <td>27.5</td>\n",
       "      <td>133.5</td>\n",
       "      <td>234.0</td>\n",
       "      <td>8.5</td>\n",
       "      <td>NaN</td>\n",
       "      <td>NaN</td>\n",
       "      <td>18.0</td>\n",
       "      <td>11.12</td>\n",
       "      <td>3.27</td>\n",
       "    </tr>\n",
       "    <tr>\n",
       "      <th>4</th>\n",
       "      <td>4</td>\n",
       "      <td>Earl Clark</td>\n",
       "      <td>2009</td>\n",
       "      <td>14.0</td>\n",
       "      <td>80.50</td>\n",
       "      <td>82.25</td>\n",
       "      <td>86.50</td>\n",
       "      <td>109.5</td>\n",
       "      <td>33.0</td>\n",
       "      <td>142.5</td>\n",
       "      <td>28.5</td>\n",
       "      <td>138.0</td>\n",
       "      <td>228.0</td>\n",
       "      <td>5.2</td>\n",
       "      <td>NaN</td>\n",
       "      <td>NaN</td>\n",
       "      <td>5.0</td>\n",
       "      <td>11.17</td>\n",
       "      <td>3.35</td>\n",
       "    </tr>\n",
       "    <tr>\n",
       "      <th>...</th>\n",
       "      <td>...</td>\n",
       "      <td>...</td>\n",
       "      <td>...</td>\n",
       "      <td>...</td>\n",
       "      <td>...</td>\n",
       "      <td>...</td>\n",
       "      <td>...</td>\n",
       "      <td>...</td>\n",
       "      <td>...</td>\n",
       "      <td>...</td>\n",
       "      <td>...</td>\n",
       "      <td>...</td>\n",
       "      <td>...</td>\n",
       "      <td>...</td>\n",
       "      <td>...</td>\n",
       "      <td>...</td>\n",
       "      <td>...</td>\n",
       "      <td>...</td>\n",
       "      <td>...</td>\n",
       "    </tr>\n",
       "    <tr>\n",
       "      <th>512</th>\n",
       "      <td>512</td>\n",
       "      <td>Peter Jok</td>\n",
       "      <td>2017</td>\n",
       "      <td>NaN</td>\n",
       "      <td>76.25</td>\n",
       "      <td>77.75</td>\n",
       "      <td>80.00</td>\n",
       "      <td>102.0</td>\n",
       "      <td>31.0</td>\n",
       "      <td>133.0</td>\n",
       "      <td>26.5</td>\n",
       "      <td>128.5</td>\n",
       "      <td>202.0</td>\n",
       "      <td>11.0</td>\n",
       "      <td>8.25</td>\n",
       "      <td>9.50</td>\n",
       "      <td>NaN</td>\n",
       "      <td>11.34</td>\n",
       "      <td>3.41</td>\n",
       "    </tr>\n",
       "    <tr>\n",
       "      <th>513</th>\n",
       "      <td>513</td>\n",
       "      <td>Rawle Alkins</td>\n",
       "      <td>2017</td>\n",
       "      <td>NaN</td>\n",
       "      <td>74.50</td>\n",
       "      <td>75.75</td>\n",
       "      <td>80.75</td>\n",
       "      <td>99.0</td>\n",
       "      <td>40.5</td>\n",
       "      <td>139.5</td>\n",
       "      <td>31.5</td>\n",
       "      <td>130.5</td>\n",
       "      <td>223.0</td>\n",
       "      <td>11.0</td>\n",
       "      <td>8.75</td>\n",
       "      <td>10.00</td>\n",
       "      <td>NaN</td>\n",
       "      <td>11.99</td>\n",
       "      <td>3.30</td>\n",
       "    </tr>\n",
       "    <tr>\n",
       "      <th>514</th>\n",
       "      <td>514</td>\n",
       "      <td>Sviatoslav Mykhailiuk</td>\n",
       "      <td>2017</td>\n",
       "      <td>NaN</td>\n",
       "      <td>78.50</td>\n",
       "      <td>79.50</td>\n",
       "      <td>77.00</td>\n",
       "      <td>100.0</td>\n",
       "      <td>33.0</td>\n",
       "      <td>133.0</td>\n",
       "      <td>27.0</td>\n",
       "      <td>127.0</td>\n",
       "      <td>220.0</td>\n",
       "      <td>11.4</td>\n",
       "      <td>8.00</td>\n",
       "      <td>9.25</td>\n",
       "      <td>NaN</td>\n",
       "      <td>12.40</td>\n",
       "      <td>3.53</td>\n",
       "    </tr>\n",
       "    <tr>\n",
       "      <th>515</th>\n",
       "      <td>515</td>\n",
       "      <td>Thomas Welsh</td>\n",
       "      <td>2017</td>\n",
       "      <td>NaN</td>\n",
       "      <td>83.50</td>\n",
       "      <td>84.50</td>\n",
       "      <td>84.00</td>\n",
       "      <td>109.5</td>\n",
       "      <td>NaN</td>\n",
       "      <td>NaN</td>\n",
       "      <td>NaN</td>\n",
       "      <td>NaN</td>\n",
       "      <td>254.0</td>\n",
       "      <td>10.9</td>\n",
       "      <td>9.00</td>\n",
       "      <td>10.50</td>\n",
       "      <td>NaN</td>\n",
       "      <td>NaN</td>\n",
       "      <td>NaN</td>\n",
       "    </tr>\n",
       "    <tr>\n",
       "      <th>516</th>\n",
       "      <td>516</td>\n",
       "      <td>V.J. Beachem</td>\n",
       "      <td>2017</td>\n",
       "      <td>NaN</td>\n",
       "      <td>78.25</td>\n",
       "      <td>80.00</td>\n",
       "      <td>82.25</td>\n",
       "      <td>104.5</td>\n",
       "      <td>37.0</td>\n",
       "      <td>141.5</td>\n",
       "      <td>30.0</td>\n",
       "      <td>134.5</td>\n",
       "      <td>193.0</td>\n",
       "      <td>6.8</td>\n",
       "      <td>8.50</td>\n",
       "      <td>9.00</td>\n",
       "      <td>NaN</td>\n",
       "      <td>11.18</td>\n",
       "      <td>3.26</td>\n",
       "    </tr>\n",
       "  </tbody>\n",
       "</table>\n",
       "<p>517 rows × 19 columns</p>\n",
       "</div>"
      ],
      "text/plain": [
       "     Unnamed: 0                 Player  Year  Draft pick  Height (No Shoes)  \\\n",
       "0             0          Blake Griffin  2009         1.0              80.50   \n",
       "1             1      Terrence Williams  2009        11.0              77.00   \n",
       "2             2       Gerald Henderson  2009        12.0              76.00   \n",
       "3             3       Tyler Hansbrough  2009        13.0              80.25   \n",
       "4             4             Earl Clark  2009        14.0              80.50   \n",
       "..          ...                    ...   ...         ...                ...   \n",
       "512         512              Peter Jok  2017         NaN              76.25   \n",
       "513         513           Rawle Alkins  2017         NaN              74.50   \n",
       "514         514  Sviatoslav Mykhailiuk  2017         NaN              78.50   \n",
       "515         515           Thomas Welsh  2017         NaN              83.50   \n",
       "516         516           V.J. Beachem  2017         NaN              78.25   \n",
       "\n",
       "     Height (With Shoes)  Wingspan  Standing reach  Vertical (Max)  \\\n",
       "0                  82.00     83.25           105.0            35.5   \n",
       "1                  78.25     81.00           103.5            37.0   \n",
       "2                  77.00     82.25           102.5            35.0   \n",
       "3                  81.50     83.50           106.0            34.0   \n",
       "4                  82.25     86.50           109.5            33.0   \n",
       "..                   ...       ...             ...             ...   \n",
       "512                77.75     80.00           102.0            31.0   \n",
       "513                75.75     80.75            99.0            40.5   \n",
       "514                79.50     77.00           100.0            33.0   \n",
       "515                84.50     84.00           109.5             NaN   \n",
       "516                80.00     82.25           104.5            37.0   \n",
       "\n",
       "     Vertical (Max Reach)  Vertical (No Step)  Vertical (No Step Reach)  \\\n",
       "0                   140.5                32.0                     137.0   \n",
       "1                   140.5                30.5                     134.0   \n",
       "2                   137.5                31.5                     134.0   \n",
       "3                   140.0                27.5                     133.5   \n",
       "4                   142.5                28.5                     138.0   \n",
       "..                    ...                 ...                       ...   \n",
       "512                 133.0                26.5                     128.5   \n",
       "513                 139.5                31.5                     130.5   \n",
       "514                 133.0                27.0                     127.0   \n",
       "515                   NaN                 NaN                       NaN   \n",
       "516                 141.5                30.0                     134.5   \n",
       "\n",
       "     Weight  Body Fat  Hand (Length)  Hand (Width)  Bench  Agility  Sprint  \n",
       "0     248.0       8.2            NaN           NaN   22.0    10.95    3.28  \n",
       "1     213.0       5.1            NaN           NaN    9.0    11.15    3.18  \n",
       "2     215.0       4.4            NaN           NaN    8.0    11.17    3.14  \n",
       "3     234.0       8.5            NaN           NaN   18.0    11.12    3.27  \n",
       "4     228.0       5.2            NaN           NaN    5.0    11.17    3.35  \n",
       "..      ...       ...            ...           ...    ...      ...     ...  \n",
       "512   202.0      11.0           8.25          9.50    NaN    11.34    3.41  \n",
       "513   223.0      11.0           8.75         10.00    NaN    11.99    3.30  \n",
       "514   220.0      11.4           8.00          9.25    NaN    12.40    3.53  \n",
       "515   254.0      10.9           9.00         10.50    NaN      NaN     NaN  \n",
       "516   193.0       6.8           8.50          9.00    NaN    11.18    3.26  \n",
       "\n",
       "[517 rows x 19 columns]"
      ]
     },
     "execution_count": 188,
     "metadata": {},
     "output_type": "execute_result"
    }
   ],
   "source": [
    "all_combine_data = pd.read_csv(\"combine 2009 to 2017.csv\")\n",
    "all_combine_data"
   ]
  },
  {
   "cell_type": "markdown",
   "metadata": {},
   "source": [
    "Before we do anything, we have to understand the meaning of these numbers.  The source of the data gives us the following key:    \n",
    "  \n",
    "Year: The year they were drafted.    \n",
    "Draft Pick: A number from 1 to 60.  Lower indicates they were selected before (i.e. more desireable) than higher numbers.  \n",
    "Height (w/ and w/o shoes): Measured in Inches  \n",
    "Wingspan: Measured in Inches  \n",
    "Standing Reach: Measured in Inches  \n",
    "Vertical (Max): How much air a player can get on a jump with a step before jumping, in inches.  \n",
    "Vertical (Max Reach): How high a player can reach on a jump with a step before jumping, in inches.  \n",
    "Vertical (No Step): How much air a player can get on a jump with no step before jumping, in inches.  \n",
    "Vertical (No Step Reach): How high a player can reach on a jump with no step before jumping, in inches.  \n",
    "Weight: In pounds.  \n",
    "Body Fat: As a pencentage.  \n",
    "Hand (Length): From base of the palm to the end of fingers, in inches.  \n",
    "Hand (Width): Width of the hand, in inches.  \n",
    "Bench: The amount of reps completed of 185 pound weight.  \n",
    "Agility: The time taken, in seconds, to shuffle around the painted area.  \n",
    "Sprint: The time taken to sprint 3/4 of a basketball court.  \n",
    "\n",
    "\n",
    "There are a lot of things to keep an eye on.  First are the amounts of NaN values throughout.  From the above data frame, it looks like the hand length, hand width, and bench attributes are most filled with NaN values.  Let's see if that's true."
   ]
  },
  {
   "cell_type": "code",
   "execution_count": 189,
   "metadata": {},
   "outputs": [
    {
     "data": {
      "text/plain": [
       "Unnamed: 0                    0\n",
       "Player                        0\n",
       "Year                          0\n",
       "Draft pick                  133\n",
       "Height (No Shoes)             0\n",
       "Height (With Shoes)           1\n",
       "Wingspan                      0\n",
       "Standing reach                0\n",
       "Vertical (Max)               67\n",
       "Vertical (Max Reach)         67\n",
       "Vertical (No Step)           67\n",
       "Vertical (No Step Reach)     67\n",
       "Weight                        1\n",
       "Body Fat                      3\n",
       "Hand (Length)                47\n",
       "Hand (Width)                 49\n",
       "Bench                       233\n",
       "Agility                      73\n",
       "Sprint                       71\n",
       "dtype: int64"
      ]
     },
     "execution_count": 189,
     "metadata": {},
     "output_type": "execute_result"
    }
   ],
   "source": [
    "all_combine_data.isnull().sum(axis = 0)"
   ]
  },
  {
   "cell_type": "markdown",
   "metadata": {},
   "source": [
    "It definitely looks like Bench is the most empty.  So let us drop that column."
   ]
  },
  {
   "cell_type": "code",
   "execution_count": 190,
   "metadata": {},
   "outputs": [],
   "source": [
    "all_combine_data = all_combine_data.drop(['Bench'], axis = 1)\n",
    "all_combine_data = all_combine_data.drop(['Year'], axis = 1)\n",
    "all_combine_data = all_combine_data.drop(['Unnamed: 0'], axis = 1)"
   ]
  },
  {
   "cell_type": "markdown",
   "metadata": {},
   "source": [
    "Now, I am sure there are entries that have a lot of null values.  Let's see."
   ]
  },
  {
   "cell_type": "code",
   "execution_count": 191,
   "metadata": {},
   "outputs": [
    {
     "data": {
      "text/plain": [
       "0       5\n",
       "1       5\n",
       "2       5\n",
       "3       5\n",
       "4       5\n",
       "       ..\n",
       "512     4\n",
       "513     4\n",
       "514     4\n",
       "515    10\n",
       "516     4\n",
       "Length: 517, dtype: int64"
      ]
     },
     "execution_count": 191,
     "metadata": {},
     "output_type": "execute_result"
    }
   ],
   "source": [
    "row_nulls = all_combine_data.apply(lambda x: 19 - x.count(), axis = 1)\n",
    "row_nulls"
   ]
  },
  {
   "cell_type": "code",
   "execution_count": 192,
   "metadata": {},
   "outputs": [
    {
     "data": {
      "text/plain": [
       "3     285\n",
       "4     114\n",
       "5      44\n",
       "6       8\n",
       "9      48\n",
       "10     14\n",
       "11      3\n",
       "13      1\n",
       "dtype: int64"
      ]
     },
     "execution_count": 192,
     "metadata": {},
     "output_type": "execute_result"
    }
   ],
   "source": [
    "row_nulls.value_counts(sort = False)"
   ]
  },
  {
   "cell_type": "markdown",
   "metadata": {},
   "source": [
    "From above, we see that 285 entries have three null values.  The rest have more.  For this beginning analysis, let's remove any entries with more than 3 null values.  Also, the collection of entries with three null values probably share the locations of those three nulls.  Thus, if we remove the three bad columns, we should end up with 285 entries with no null values."
   ]
  },
  {
   "cell_type": "code",
   "execution_count": 193,
   "metadata": {},
   "outputs": [],
   "source": [
    "list_of_null_numbers = all_combine_data.isna().sum(axis=1).tolist()"
   ]
  },
  {
   "cell_type": "code",
   "execution_count": 194,
   "metadata": {},
   "outputs": [
    {
     "data": {
      "text/html": [
       "<div>\n",
       "<style scoped>\n",
       "    .dataframe tbody tr th:only-of-type {\n",
       "        vertical-align: middle;\n",
       "    }\n",
       "\n",
       "    .dataframe tbody tr th {\n",
       "        vertical-align: top;\n",
       "    }\n",
       "\n",
       "    .dataframe thead th {\n",
       "        text-align: right;\n",
       "    }\n",
       "</style>\n",
       "<table border=\"1\" class=\"dataframe\">\n",
       "  <thead>\n",
       "    <tr style=\"text-align: right;\">\n",
       "      <th></th>\n",
       "      <th>Player</th>\n",
       "      <th>Draft pick</th>\n",
       "      <th>Height (No Shoes)</th>\n",
       "      <th>Height (With Shoes)</th>\n",
       "      <th>Wingspan</th>\n",
       "      <th>Standing reach</th>\n",
       "      <th>Vertical (Max)</th>\n",
       "      <th>Vertical (Max Reach)</th>\n",
       "      <th>Vertical (No Step)</th>\n",
       "      <th>Vertical (No Step Reach)</th>\n",
       "      <th>Weight</th>\n",
       "      <th>Body Fat</th>\n",
       "      <th>Hand (Length)</th>\n",
       "      <th>Hand (Width)</th>\n",
       "      <th>Agility</th>\n",
       "      <th>Sprint</th>\n",
       "    </tr>\n",
       "  </thead>\n",
       "  <tbody>\n",
       "    <tr>\n",
       "      <th>0</th>\n",
       "      <td>Damion James</td>\n",
       "      <td>24.0</td>\n",
       "      <td>78.25</td>\n",
       "      <td>79.50</td>\n",
       "      <td>84.75</td>\n",
       "      <td>106.0</td>\n",
       "      <td>37.0</td>\n",
       "      <td>143.0</td>\n",
       "      <td>30.0</td>\n",
       "      <td>136.0</td>\n",
       "      <td>224.0</td>\n",
       "      <td>8.2</td>\n",
       "      <td>9.25</td>\n",
       "      <td>8.50</td>\n",
       "      <td>11.23</td>\n",
       "      <td>3.09</td>\n",
       "    </tr>\n",
       "    <tr>\n",
       "      <th>1</th>\n",
       "      <td>Greivis Vasquez</td>\n",
       "      <td>28.0</td>\n",
       "      <td>76.75</td>\n",
       "      <td>78.00</td>\n",
       "      <td>79.25</td>\n",
       "      <td>101.0</td>\n",
       "      <td>28.0</td>\n",
       "      <td>129.0</td>\n",
       "      <td>24.5</td>\n",
       "      <td>125.5</td>\n",
       "      <td>197.0</td>\n",
       "      <td>6.9</td>\n",
       "      <td>7.75</td>\n",
       "      <td>9.25</td>\n",
       "      <td>11.13</td>\n",
       "      <td>3.48</td>\n",
       "    </tr>\n",
       "    <tr>\n",
       "      <th>2</th>\n",
       "      <td>Gani Lawal</td>\n",
       "      <td>46.0</td>\n",
       "      <td>79.75</td>\n",
       "      <td>81.00</td>\n",
       "      <td>84.00</td>\n",
       "      <td>106.0</td>\n",
       "      <td>34.5</td>\n",
       "      <td>140.5</td>\n",
       "      <td>30.0</td>\n",
       "      <td>136.0</td>\n",
       "      <td>229.0</td>\n",
       "      <td>7.2</td>\n",
       "      <td>8.50</td>\n",
       "      <td>10.00</td>\n",
       "      <td>11.93</td>\n",
       "      <td>3.34</td>\n",
       "    </tr>\n",
       "    <tr>\n",
       "      <th>3</th>\n",
       "      <td>Luke Harangody</td>\n",
       "      <td>52.0</td>\n",
       "      <td>78.25</td>\n",
       "      <td>80.00</td>\n",
       "      <td>81.75</td>\n",
       "      <td>106.0</td>\n",
       "      <td>31.0</td>\n",
       "      <td>137.0</td>\n",
       "      <td>27.0</td>\n",
       "      <td>133.0</td>\n",
       "      <td>240.0</td>\n",
       "      <td>11.2</td>\n",
       "      <td>8.75</td>\n",
       "      <td>9.75</td>\n",
       "      <td>11.15</td>\n",
       "      <td>3.33</td>\n",
       "    </tr>\n",
       "    <tr>\n",
       "      <th>4</th>\n",
       "      <td>John Wall</td>\n",
       "      <td>1.0</td>\n",
       "      <td>74.75</td>\n",
       "      <td>76.00</td>\n",
       "      <td>81.25</td>\n",
       "      <td>101.5</td>\n",
       "      <td>39.0</td>\n",
       "      <td>140.5</td>\n",
       "      <td>30.0</td>\n",
       "      <td>131.5</td>\n",
       "      <td>196.0</td>\n",
       "      <td>5.6</td>\n",
       "      <td>8.25</td>\n",
       "      <td>9.50</td>\n",
       "      <td>10.84</td>\n",
       "      <td>3.14</td>\n",
       "    </tr>\n",
       "    <tr>\n",
       "      <th>...</th>\n",
       "      <td>...</td>\n",
       "      <td>...</td>\n",
       "      <td>...</td>\n",
       "      <td>...</td>\n",
       "      <td>...</td>\n",
       "      <td>...</td>\n",
       "      <td>...</td>\n",
       "      <td>...</td>\n",
       "      <td>...</td>\n",
       "      <td>...</td>\n",
       "      <td>...</td>\n",
       "      <td>...</td>\n",
       "      <td>...</td>\n",
       "      <td>...</td>\n",
       "      <td>...</td>\n",
       "      <td>...</td>\n",
       "    </tr>\n",
       "    <tr>\n",
       "      <th>280</th>\n",
       "      <td>Ike Anigbogu</td>\n",
       "      <td>47.0</td>\n",
       "      <td>80.50</td>\n",
       "      <td>81.75</td>\n",
       "      <td>90.25</td>\n",
       "      <td>110.5</td>\n",
       "      <td>32.5</td>\n",
       "      <td>143.0</td>\n",
       "      <td>29.5</td>\n",
       "      <td>140.0</td>\n",
       "      <td>252.0</td>\n",
       "      <td>5.4</td>\n",
       "      <td>9.50</td>\n",
       "      <td>10.00</td>\n",
       "      <td>12.52</td>\n",
       "      <td>3.44</td>\n",
       "    </tr>\n",
       "    <tr>\n",
       "      <th>281</th>\n",
       "      <td>Sindarius Thornwell</td>\n",
       "      <td>48.0</td>\n",
       "      <td>75.50</td>\n",
       "      <td>76.75</td>\n",
       "      <td>82.00</td>\n",
       "      <td>103.0</td>\n",
       "      <td>30.5</td>\n",
       "      <td>133.5</td>\n",
       "      <td>27.0</td>\n",
       "      <td>130.0</td>\n",
       "      <td>212.0</td>\n",
       "      <td>7.8</td>\n",
       "      <td>8.75</td>\n",
       "      <td>8.75</td>\n",
       "      <td>11.48</td>\n",
       "      <td>3.36</td>\n",
       "    </tr>\n",
       "    <tr>\n",
       "      <th>282</th>\n",
       "      <td>Monte Morris</td>\n",
       "      <td>51.0</td>\n",
       "      <td>73.25</td>\n",
       "      <td>74.50</td>\n",
       "      <td>76.00</td>\n",
       "      <td>96.5</td>\n",
       "      <td>33.5</td>\n",
       "      <td>130.0</td>\n",
       "      <td>28.0</td>\n",
       "      <td>124.5</td>\n",
       "      <td>175.0</td>\n",
       "      <td>6.9</td>\n",
       "      <td>8.25</td>\n",
       "      <td>8.75</td>\n",
       "      <td>11.00</td>\n",
       "      <td>3.19</td>\n",
       "    </tr>\n",
       "    <tr>\n",
       "      <th>283</th>\n",
       "      <td>Kadeem Allen</td>\n",
       "      <td>53.0</td>\n",
       "      <td>73.00</td>\n",
       "      <td>74.25</td>\n",
       "      <td>81.25</td>\n",
       "      <td>99.5</td>\n",
       "      <td>35.5</td>\n",
       "      <td>135.0</td>\n",
       "      <td>33.0</td>\n",
       "      <td>132.5</td>\n",
       "      <td>192.0</td>\n",
       "      <td>6.4</td>\n",
       "      <td>8.50</td>\n",
       "      <td>8.75</td>\n",
       "      <td>11.24</td>\n",
       "      <td>3.15</td>\n",
       "    </tr>\n",
       "    <tr>\n",
       "      <th>284</th>\n",
       "      <td>Nigel Williams-Goss</td>\n",
       "      <td>55.0</td>\n",
       "      <td>73.50</td>\n",
       "      <td>75.00</td>\n",
       "      <td>79.25</td>\n",
       "      <td>99.0</td>\n",
       "      <td>34.5</td>\n",
       "      <td>133.5</td>\n",
       "      <td>27.5</td>\n",
       "      <td>126.5</td>\n",
       "      <td>190.0</td>\n",
       "      <td>5.6</td>\n",
       "      <td>8.75</td>\n",
       "      <td>9.25</td>\n",
       "      <td>10.42</td>\n",
       "      <td>3.19</td>\n",
       "    </tr>\n",
       "  </tbody>\n",
       "</table>\n",
       "<p>285 rows × 16 columns</p>\n",
       "</div>"
      ],
      "text/plain": [
       "                  Player  Draft pick  Height (No Shoes)  Height (With Shoes)  \\\n",
       "0           Damion James        24.0              78.25                79.50   \n",
       "1        Greivis Vasquez        28.0              76.75                78.00   \n",
       "2             Gani Lawal        46.0              79.75                81.00   \n",
       "3         Luke Harangody        52.0              78.25                80.00   \n",
       "4              John Wall         1.0              74.75                76.00   \n",
       "..                   ...         ...                ...                  ...   \n",
       "280         Ike Anigbogu        47.0              80.50                81.75   \n",
       "281  Sindarius Thornwell        48.0              75.50                76.75   \n",
       "282         Monte Morris        51.0              73.25                74.50   \n",
       "283         Kadeem Allen        53.0              73.00                74.25   \n",
       "284  Nigel Williams-Goss        55.0              73.50                75.00   \n",
       "\n",
       "     Wingspan  Standing reach  Vertical (Max)  Vertical (Max Reach)  \\\n",
       "0       84.75           106.0            37.0                 143.0   \n",
       "1       79.25           101.0            28.0                 129.0   \n",
       "2       84.00           106.0            34.5                 140.5   \n",
       "3       81.75           106.0            31.0                 137.0   \n",
       "4       81.25           101.5            39.0                 140.5   \n",
       "..        ...             ...             ...                   ...   \n",
       "280     90.25           110.5            32.5                 143.0   \n",
       "281     82.00           103.0            30.5                 133.5   \n",
       "282     76.00            96.5            33.5                 130.0   \n",
       "283     81.25            99.5            35.5                 135.0   \n",
       "284     79.25            99.0            34.5                 133.5   \n",
       "\n",
       "     Vertical (No Step)  Vertical (No Step Reach)  Weight  Body Fat  \\\n",
       "0                  30.0                     136.0   224.0       8.2   \n",
       "1                  24.5                     125.5   197.0       6.9   \n",
       "2                  30.0                     136.0   229.0       7.2   \n",
       "3                  27.0                     133.0   240.0      11.2   \n",
       "4                  30.0                     131.5   196.0       5.6   \n",
       "..                  ...                       ...     ...       ...   \n",
       "280                29.5                     140.0   252.0       5.4   \n",
       "281                27.0                     130.0   212.0       7.8   \n",
       "282                28.0                     124.5   175.0       6.9   \n",
       "283                33.0                     132.5   192.0       6.4   \n",
       "284                27.5                     126.5   190.0       5.6   \n",
       "\n",
       "     Hand (Length)  Hand (Width)  Agility  Sprint  \n",
       "0             9.25          8.50    11.23    3.09  \n",
       "1             7.75          9.25    11.13    3.48  \n",
       "2             8.50         10.00    11.93    3.34  \n",
       "3             8.75          9.75    11.15    3.33  \n",
       "4             8.25          9.50    10.84    3.14  \n",
       "..             ...           ...      ...     ...  \n",
       "280           9.50         10.00    12.52    3.44  \n",
       "281           8.75          8.75    11.48    3.36  \n",
       "282           8.25          8.75    11.00    3.19  \n",
       "283           8.50          8.75    11.24    3.15  \n",
       "284           8.75          9.25    10.42    3.19  \n",
       "\n",
       "[285 rows x 16 columns]"
      ]
     },
     "execution_count": 194,
     "metadata": {},
     "output_type": "execute_result"
    }
   ],
   "source": [
    "all_combine_data = all_combine_data.dropna()\n",
    "all_combine_data.reset_index(drop = True, inplace = True)\n",
    "all_combine_data"
   ]
  },
  {
   "cell_type": "markdown",
   "metadata": {},
   "source": [
    "This is the most simplified version of data cleaning.  It ensures no null values, but it also slimmed down our data set by half, and our dataset was not very large to begin with.  If we cannot get results with this, we will have to come back to this step and be more careful.\n",
    "\n",
    "  \n",
    "The first thing I want to investigate is how combine stats affect draft pick if at all.  Let's treat the problem as a regression problem (having the other variables predict the draft pick)"
   ]
  },
  {
   "cell_type": "code",
   "execution_count": 195,
   "metadata": {},
   "outputs": [],
   "source": [
    "train, test = train_test_split(all_combine_data, test_size = 0.2, random_state = 42)"
   ]
  },
  {
   "cell_type": "markdown",
   "metadata": {},
   "source": [
    "Now that we have our training and test data split up, we need to decide which model to use.\n",
    "First, I will try simple linear regression."
   ]
  },
  {
   "cell_type": "code",
   "execution_count": 196,
   "metadata": {},
   "outputs": [],
   "source": [
    "train_X = train.drop([\"Draft pick\", \"Player\"], axis = 1)\n",
    "train_y = train[\"Draft pick\"].copy()\n",
    "test_X = test.drop([\"Draft pick\", \"Player\"], axis = 1)\n",
    "test_y = test[\"Draft pick\"].copy()"
   ]
  },
  {
   "cell_type": "code",
   "execution_count": 197,
   "metadata": {},
   "outputs": [
    {
     "data": {
      "text/plain": [
       "LinearRegression(copy_X=True, fit_intercept=True, n_jobs=None, normalize=False)"
      ]
     },
     "execution_count": 197,
     "metadata": {},
     "output_type": "execute_result"
    }
   ],
   "source": [
    "lin_reg = LinearRegression()\n",
    "lin_reg.fit(train_X, train_y)"
   ]
  },
  {
   "cell_type": "code",
   "execution_count": 198,
   "metadata": {},
   "outputs": [
    {
     "data": {
      "text/plain": [
       "14.525103177724192"
      ]
     },
     "execution_count": 198,
     "metadata": {},
     "output_type": "execute_result"
    }
   ],
   "source": [
    "test_predictions = lin_reg.predict(test_X)\n",
    "mse = mean_squared_error(test_y, test_predictions)\n",
    "rmse = np.sqrt(mse)\n",
    "rmse"
   ]
  },
  {
   "cell_type": "markdown",
   "metadata": {},
   "source": [
    "Evidently, using a linear based model is good enough to predict draft spot within about 15 places, on average.  Let's quickly try a decision tree model on this data."
   ]
  },
  {
   "cell_type": "code",
   "execution_count": 199,
   "metadata": {},
   "outputs": [
    {
     "data": {
      "text/plain": [
       "DecisionTreeRegressor(criterion='mse', max_depth=None, max_features=None,\n",
       "                      max_leaf_nodes=None, min_impurity_decrease=0.0,\n",
       "                      min_impurity_split=None, min_samples_leaf=1,\n",
       "                      min_samples_split=2, min_weight_fraction_leaf=0.0,\n",
       "                      presort=False, random_state=None, splitter='best')"
      ]
     },
     "execution_count": 199,
     "metadata": {},
     "output_type": "execute_result"
    }
   ],
   "source": [
    "tree_reg = DecisionTreeRegressor()\n",
    "tree_reg.fit(train_X, train_y)"
   ]
  },
  {
   "cell_type": "code",
   "execution_count": 200,
   "metadata": {},
   "outputs": [
    {
     "data": {
      "text/plain": [
       "20.285246561729917"
      ]
     },
     "execution_count": 200,
     "metadata": {},
     "output_type": "execute_result"
    }
   ],
   "source": [
    "tree_test_predictions = tree_reg.predict(test_X)\n",
    "mse_tree = mean_squared_error(test_y, tree_test_predictions)\n",
    "rmse_tree = np.sqrt(mse_tree)\n",
    "rmse_tree"
   ]
  },
  {
   "cell_type": "markdown",
   "metadata": {},
   "source": [
    "This seems to actually be worse.  Let's try a random forest."
   ]
  },
  {
   "cell_type": "code",
   "execution_count": 201,
   "metadata": {},
   "outputs": [
    {
     "name": "stderr",
     "output_type": "stream",
     "text": [
      "C:\\Users\\User\\Anaconda3\\envs\\nba_combine\\lib\\site-packages\\sklearn\\ensemble\\forest.py:245: FutureWarning: The default value of n_estimators will change from 10 in version 0.20 to 100 in 0.22.\n",
      "  \"10 in version 0.20 to 100 in 0.22.\", FutureWarning)\n"
     ]
    },
    {
     "data": {
      "text/plain": [
       "RandomForestRegressor(bootstrap=True, criterion='mse', max_depth=None,\n",
       "                      max_features='auto', max_leaf_nodes=None,\n",
       "                      min_impurity_decrease=0.0, min_impurity_split=None,\n",
       "                      min_samples_leaf=1, min_samples_split=2,\n",
       "                      min_weight_fraction_leaf=0.0, n_estimators=10,\n",
       "                      n_jobs=None, oob_score=False, random_state=None,\n",
       "                      verbose=0, warm_start=False)"
      ]
     },
     "execution_count": 201,
     "metadata": {},
     "output_type": "execute_result"
    }
   ],
   "source": [
    "forest_reg = RandomForestRegressor()\n",
    "forest_reg.fit(train_X, train_y)"
   ]
  },
  {
   "cell_type": "code",
   "execution_count": 202,
   "metadata": {},
   "outputs": [
    {
     "data": {
      "text/plain": [
       "14.622021364090871"
      ]
     },
     "execution_count": 202,
     "metadata": {},
     "output_type": "execute_result"
    }
   ],
   "source": [
    "forest_test_predictions = forest_reg.predict(test_X)\n",
    "mse_forest = mean_squared_error(test_y, forest_test_predictions)\n",
    "rmse_forest = np.sqrt(mse_forest)\n",
    "rmse_forest"
   ]
  },
  {
   "cell_type": "markdown",
   "metadata": {},
   "source": [
    "This is about as good as the linear model.  Let's compare all of these with a random guesser, which randomly guesses a value between 1 and 60 inclusive."
   ]
  },
  {
   "cell_type": "code",
   "execution_count": 203,
   "metadata": {},
   "outputs": [
    {
     "name": "stdout",
     "output_type": "stream",
     "text": [
      "[9, 37, 55, 52, 49, 5, 17, 8, 32, 49, 29, 31, 42, 25, 51, 14, 7, 32, 2, 58, 54, 25, 28, 39, 49, 50, 1, 45, 29, 18, 47, 52, 15, 38, 7, 58, 21, 2, 2, 2, 42, 35, 1, 57, 25, 44, 14, 28, 47, 2, 34, 15, 49, 29, 32, 36, 15]\n"
     ]
    }
   ],
   "source": [
    "seed(1)\n",
    "list = []\n",
    "for _ in range(57):\n",
    "    value = randint(1,60)\n",
    "    list.append(value)\n",
    "print(list)"
   ]
  },
  {
   "cell_type": "code",
   "execution_count": 204,
   "metadata": {},
   "outputs": [
    {
     "data": {
      "text/plain": [
       "25.227734668242174"
      ]
     },
     "execution_count": 204,
     "metadata": {},
     "output_type": "execute_result"
    }
   ],
   "source": [
    "mse_random = mean_squared_error(test_y, list)\n",
    "rmse_random = np.sqrt(mse_random)\n",
    "rmse_random"
   ]
  },
  {
   "cell_type": "markdown",
   "metadata": {},
   "source": [
    "This is a good sign.  If the models were just as good as randomly guessing the draft pick, there would be no point in creating models!  Maybe we can improve the performance of the models by fine-tuning them.  Before we do that, let's investigate the relationships between our attributes in a little more detail.  First, let's compute the Pearson's r (correlation coefficient) between all attributes."
   ]
  },
  {
   "cell_type": "code",
   "execution_count": 205,
   "metadata": {},
   "outputs": [],
   "source": [
    "pearson_matrix = all_combine_data.corr()"
   ]
  },
  {
   "cell_type": "markdown",
   "metadata": {},
   "source": [
    "We really care how all the attributes are correlated with the 'Draft pick' attribute:"
   ]
  },
  {
   "cell_type": "code",
   "execution_count": 206,
   "metadata": {},
   "outputs": [
    {
     "data": {
      "text/plain": [
       "Draft pick                  1.000000\n",
       "Sprint                      0.179595\n",
       "Agility                     0.134505\n",
       "Body Fat                    0.025616\n",
       "Vertical (No Step)         -0.042398\n",
       "Vertical (Max)             -0.047175\n",
       "Weight                     -0.115229\n",
       "Height (With Shoes)        -0.135034\n",
       "Height (No Shoes)          -0.135566\n",
       "Hand (Width)               -0.149553\n",
       "Standing reach             -0.152935\n",
       "Wingspan                   -0.158861\n",
       "Hand (Length)              -0.167134\n",
       "Vertical (No Step Reach)   -0.193627\n",
       "Vertical (Max Reach)       -0.224243\n",
       "Name: Draft pick, dtype: float64"
      ]
     },
     "execution_count": 206,
     "metadata": {},
     "output_type": "execute_result"
    }
   ],
   "source": [
    "pearson_matrix['Draft pick'].sort_values(ascending=False)"
   ]
  },
  {
   "cell_type": "markdown",
   "metadata": {},
   "source": [
    "At first glance, these can seem confusing.  It's important to realize that since a lower draft pick is better and a larger vertical is better, there is some evidence that vertical *reaches* provide the biggest indication for draft selection.  \n",
    "At the same time, since lower sprint and agility times are better, there is some evidence that those times can provide some indication for draft selection.  Most of the values with negative correlation coefficient are better the larger they are (which is why have a negative correlation coefficient).  \n",
    "It's most revealing to see which variable are not very correlated which include regular verticals and body fat percentage.  \n",
    "  \n",
    "  \n",
    "Let's create some plots with the most promising attributes: Vertical (Max Reach), Sprint, and Hand (Length)."
   ]
  },
  {
   "cell_type": "code",
   "execution_count": 207,
   "metadata": {},
   "outputs": [
    {
     "data": {
      "text/plain": [
       "<matplotlib.axes._subplots.AxesSubplot at 0x2899bf2dbc8>"
      ]
     },
     "execution_count": 207,
     "metadata": {},
     "output_type": "execute_result"
    },
    {
     "data": {
      "image/png": "[encoded data removed]",
      "text/plain": [
       "<Figure size 432x288 with 1 Axes>"
      ]
     },
     "metadata": {
      "needs_background": "light"
     },
     "output_type": "display_data"
    }
   ],
   "source": [
    "all_combine_data.plot.scatter(\"Vertical (Max Reach)\", \"Draft pick\")"
   ]
  },
  {
   "cell_type": "code",
   "execution_count": 208,
   "metadata": {},
   "outputs": [
    {
     "data": {
      "text/plain": [
       "<matplotlib.axes._subplots.AxesSubplot at 0x2899bf4ed08>"
      ]
     },
     "execution_count": 208,
     "metadata": {},
     "output_type": "execute_result"
    },
    {
     "data": {
      "image/png": "[encoded data removed]",
      "text/plain": [
       "<Figure size 432x288 with 1 Axes>"
      ]
     },
     "metadata": {
      "needs_background": "light"
     },
     "output_type": "display_data"
    }
   ],
   "source": [
    "all_combine_data.plot.scatter(\"Sprint\", \"Draft pick\")"
   ]
  },
  {
   "cell_type": "code",
   "execution_count": 209,
   "metadata": {},
   "outputs": [
    {
     "data": {
      "text/plain": [
       "<matplotlib.axes._subplots.AxesSubplot at 0x2899bfb82c8>"
      ]
     },
     "execution_count": 209,
     "metadata": {},
     "output_type": "execute_result"
    },
    {
     "data": {
      "image/png": "[encoded data removed]",
      "text/plain": [
       "<Figure size 432x288 with 1 Axes>"
      ]
     },
     "metadata": {
      "needs_background": "light"
     },
     "output_type": "display_data"
    }
   ],
   "source": [
    "all_combine_data.plot.scatter(\"Hand (Length)\", \"Draft pick\")"
   ]
  },
  {
   "cell_type": "markdown",
   "metadata": {},
   "source": [
    "The positive and negative correlations are clear enough visually, but they will not be strong enough to very accurately predict draft selection.  \n",
    "  \n",
    "Now that we have a better idea of the relationship between the various attributes, let us try to optimize our model.  First, we will perform feature scaling on our X data (scaling target values are not required).  We are going to use standardization for this task."
   ]
  },
  {
   "cell_type": "code",
   "execution_count": 210,
   "metadata": {},
   "outputs": [],
   "source": [
    "std_scaler = StandardScaler()"
   ]
  },
  {
   "cell_type": "code",
   "execution_count": 211,
   "metadata": {},
   "outputs": [
    {
     "data": {
      "text/plain": [
       "StandardScaler(copy=True, with_mean=True, with_std=True)"
      ]
     },
     "execution_count": 211,
     "metadata": {},
     "output_type": "execute_result"
    }
   ],
   "source": [
    "std_scaler.fit(train_X)"
   ]
  },
  {
   "cell_type": "code",
   "execution_count": 212,
   "metadata": {},
   "outputs": [
    {
     "name": "stdout",
     "output_type": "stream",
     "text": [
      "[ 77.59868421  78.90241228  82.49824561 103.04934211  35.45175439\n",
      " 138.50109649  29.95175439 133.00109649 213.89473684   7.01754386\n",
      "   8.72149123   9.38048246  11.31258772   3.29912281] [9.61745441e+00 9.53406216e+00 1.38543171e+01 2.18399447e+01\n",
      " 1.21621460e+01 1.62787817e+01 9.31346183e+00 1.98336063e+01\n",
      " 5.97331025e+02 5.40276239e+00 2.19033741e-01 5.29849329e-01\n",
      " 2.87478830e-01 1.58334411e-02] 228\n"
     ]
    }
   ],
   "source": [
    "print(std_scaler.mean_, std_scaler.var_, std_scaler.n_samples_seen_)"
   ]
  },
  {
   "cell_type": "markdown",
   "metadata": {},
   "source": [
    "The standard scaler appears to be working correctlty.  It found the mean and standard deviation of all the attributes.  So now, we just need to transform both the training and testing data."
   ]
  },
  {
   "cell_type": "code",
   "execution_count": 213,
   "metadata": {},
   "outputs": [],
   "source": [
    "train_X = std_scaler.fit_transform(train_X)\n",
    "test_X = std_scaler.fit_transform(test_X)"
   ]
  },
  {
   "cell_type": "code",
   "execution_count": 214,
   "metadata": {},
   "outputs": [
    {
     "data": {
      "text/plain": [
       "14.676087113772295"
      ]
     },
     "execution_count": 214,
     "metadata": {},
     "output_type": "execute_result"
    }
   ],
   "source": [
    "lin_reg_scaled = LinearRegression()\n",
    "lin_reg_scaled.fit(train_X, train_y)\n",
    "test_predictions_scaled = lin_reg_scaled.predict(test_X)\n",
    "mse_scaled = mean_squared_error(test_y, test_predictions_scaled)\n",
    "rmse_scaled = np.sqrt(mse_scaled)\n",
    "rmse_scaled"
   ]
  },
  {
   "cell_type": "markdown",
   "metadata": {},
   "source": [
    "Standard scaling doesn't seem to do us any good (probably because the scaling of the original variables was not very different to begin with).  At this point, we would usually fine-time our model's hyper parameters by doing a Grid Search, but our best model, the linear regression model, doesn't have any hyper parameters.  The only other thing to try is regularization.\n",
    "  \n",
    "  \n",
    "Which regularization should we use?  The options are ridge, lasso, and elastic net and they each have their stengths and weaknesses.  Earlier, we found that some attributes are strongly correlated, which indicates that Lasso regularization is not preferred.  Elastic net regularization will be our choice since some features are not very useful, and elastic net performs well in these situations."
   ]
  },
  {
   "cell_type": "code",
   "execution_count": 215,
   "metadata": {},
   "outputs": [
    {
     "data": {
      "text/plain": [
       "14.530413934493659"
      ]
     },
     "execution_count": 215,
     "metadata": {},
     "output_type": "execute_result"
    }
   ],
   "source": [
    "net = ElasticNet(alpha=0.1, l1_ratio=0.5)\n",
    "net.fit(train_X, train_y)\n",
    "test_predictions_scaled_netted = net.predict(test_X)\n",
    "mse_scaled_netted = mean_squared_error(test_y, test_predictions_scaled_netted)\n",
    "rmse_scaled_netted = np.sqrt(mse_scaled_netted)\n",
    "rmse_scaled_netted"
   ]
  },
  {
   "cell_type": "markdown",
   "metadata": {},
   "source": [
    "This does not do us much good.  In conclusion, it appears that a linear regression model performs better than the decision tree and random forest models.  Using the linear regression models, we can predict draft selection within about 15 places.  The most important attributes for determining draft selection are Vertical reaches and Agility, and the least important are body fat percentages and verticals."
   ]
  },
  {
   "cell_type": "markdown",
   "metadata": {},
   "source": [
    "This was just the beginning analysis on the problem.  Further things to improve on:"
   ]
  },
  {
   "cell_type": "markdown",
   "metadata": {},
   "source": [
    "1: We need more data.  Either by scraping draft websites or finding other pre-built datasets.\n",
    "  \n",
    "  2: If we can get a find a good measure for nba performance for the players in this dataset, then we can see if combine drills can predict nba performance, not just draft selection."
   ]
  },
  {
   "cell_type": "code",
   "execution_count": null,
   "metadata": {},
   "outputs": [],
   "source": []
  }
 ],
 "metadata": {
  "kernelspec": {
   "display_name": "Python 3",
   "language": "python",
   "name": "python3"
  },
  "language_info": {
   "codemirror_mode": {
    "name": "ipython",
    "version": 3
   },
   "file_extension": ".py",
   "mimetype": "text/x-python",
   "name": "python",
   "nbconvert_exporter": "python",
   "pygments_lexer": "ipython3",
   "version": "3.7.5"
  }
 },
 "nbformat": 4,
 "nbformat_minor": 2
}
